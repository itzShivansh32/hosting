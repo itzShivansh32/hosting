{
  "nbformat": 4,
  "nbformat_minor": 0,
  "metadata": {
    "colab": {
      "provenance": [],
      "gpuType": "T4"
    },
    "kernelspec": {
      "name": "python3",
      "display_name": "Python 3"
    },
    "language_info": {
      "name": "python"
    },
    "accelerator": "GPU"
  },
  "cells": [
    {
      "cell_type": "markdown",
      "source": [
        "[rumourscape forked F5-TTS](https://github.com/rumourscape/F5-TTS) <br>\n",
        "\n",
        "[F5-Hindi-24KHz Hugging Face Model Card](https://huggingface.co/SPRINGLab/F5-Hindi-24KHz)<br>\n",
        "\n",
        "[Learn More at](https://github.com/rumourscape/F5-TTS/blob/main/src/f5_tts/infer/SHARED.md) <br>\n",
        "F5-TTS License: MIT <br>\n",
        "F5-Hindi-24KHz Model License: CC-BY-4.0 <br>\n",
        "Uses:\n",
        "The model was developed and is primarily intended for research purposes.<br>\n",
        "Authors: SPRING Lab, Indian Institute of Technology, Madras\n",
        "Website: https://asr.iitm.ac.in/"
      ],
      "metadata": {
        "id": "_779_D7kq7LB"
      }
    },
    {
      "cell_type": "markdown",
      "source": [
        "\n",
        "\n",
        "# Beginner Guide  \n",
        "\n",
        "### [How to Install Python 3.10](https://www.youtube.com/watch?v=JJQW3GPnzQ8)  \n",
        "### [How to Set Up NVIDIA GPU / CUDA](https://www.youtube.com/watch?v=nATRPPZ5dGE)  \n",
        "### [How to install Git Bash](https://www.youtube.com/watch?v=7BOrUHFu44A)\n",
        "## Windows Installation  \n",
        "\n",
        "1. Open a folder and note its name.  \n",
        "2. Open the Command Prompt (CMD).  \n",
        "\n",
        "Run the following commands:  \n",
        "\n",
        "```bash\n",
        "python -m venv myenv\n",
        "myenv\\Scripts\\activate\n",
        "git clone https://github.com/rumourscape/F5-TTS.git\n",
        "nvcc --version\n",
        "```\n",
        "\n",
        "3. [Download PyTorch based on your CUDA version](https://pytorch.org/get-started/locally).  \n",
        "\n",
        "Example installation commands:  \n",
        "```bash\n",
        "pip install torch==2.3.0+cu118 --extra-index-url https://download.pytorch.org/whl/cu118\n",
        "pip install torchaudio==2.3.0+cu118 --extra-index-url https://download.pytorch.org/whl/cu118\n",
        "```\n",
        "\n",
        "4. Navigate to the F5-TTS directory:  \n",
        "```bash\n",
        "cd F5-TTS\n",
        "```\n",
        "\n",
        "5. Install the F5-TTS package:  \n",
        "```bash\n",
        "pip install -e .\n",
        "```\n",
        "\n",
        "6. Run the application:  \n",
        "```bash\n",
        "f5-tts_infer-gradio\n",
        "```\n",
        "\n",
        "---\n",
        "\n",
        "## Later Usage  \n",
        "\n",
        "1. Open the folder where you installed F5-TTS.  \n",
        "2. Open the Command Prompt (CMD).  \n",
        "\n",
        "Activate the virtual environment and run the application:  \n",
        "```bash\n",
        "myenv\\Scripts\\activate\n",
        "f5-tts_infer-gradio\n",
        "```\n",
        "\n",
        "---\n",
        "\n",
        "## Uninstall F5-TTS  \n",
        "\n",
        "1. Open the folder where you installed F5-TTS.  \n",
        "2. Open the Command Prompt (CMD).  \n",
        "\n",
        "Run the following commands to uninstall:  \n",
        "\n",
        "```bash\n",
        "myenv\\Scripts\\activate\n",
        "pip uninstall -y torch torchaudio\n",
        "pip uninstall f5-tts\n",
        "```\n",
        "\n",
        "3. Delete the `myenv` folder and the `F5-TTS` folder to remove all traces of the installation.  \n",
        "\n"
      ],
      "metadata": {
        "id": "_qRE5D9f7G2D"
      }
    },
    {
      "cell_type": "code",
      "execution_count": 3,
      "metadata": {
        "id": "2FtvFC7xeqy0"
      },
      "outputs": [],
      "source": [
        "!git clone https://github.com/rumourscape/F5-TTS.git\n",
        "%cd /content/F5-TTS\n",
        "!pip install -e .\n",
        "from IPython.display import clear_output\n",
        "clear_output()"
      ]
    },
    {
      "cell_type": "code",
      "source": [
        "# https://huggingface.co/spaces/hf-audio/whisper-large-v3-turbo"
      ],
      "metadata": {
        "id": "4tFwOMo4_JHf"
      },
      "execution_count": null,
      "outputs": []
    },
    {
      "cell_type": "markdown",
      "source": [
        "[To generate Hindi reference text from audio](https://huggingface.co/spaces/hf-audio/whisper-large-v3-turbo) <br>\n",
        "Because, sometimes F5-TTS whisper-turbo generates Urdu instead of Hindi."
      ],
      "metadata": {
        "id": "QnXtvYyp_fk6"
      }
    },
    {
      "cell_type": "code",
      "source": [
        "!f5-tts_infer-gradio --share"
      ],
      "metadata": {
        "id": "KzuUfzxRhnt8",
        "outputId": "81c5c939-b9ea-4664-b859-3b3f9c9cb95f",
        "colab": {
          "base_uri": "https://localhost:8080/"
        }
      },
      "execution_count": null,
      "outputs": [
        {
          "output_type": "stream",
          "name": "stdout",
          "text": [
            "2025-03-04 13:54:04.438528: E external/local_xla/xla/stream_executor/cuda/cuda_fft.cc:477] Unable to register cuFFT factory: Attempting to register factory for plugin cuFFT when one has already been registered\n",
            "WARNING: All log messages before absl::InitializeLog() is called are written to STDERR\n",
            "E0000 00:00:1741096444.460294    6387 cuda_dnn.cc:8310] Unable to register cuDNN factory: Attempting to register factory for plugin cuDNN when one has already been registered\n",
            "E0000 00:00:1741096444.466829    6387 cuda_blas.cc:1418] Unable to register cuBLAS factory: Attempting to register factory for plugin cuBLAS when one has already been registered\n",
            "2025-03-04 13:54:04.487804: I tensorflow/core/platform/cpu_feature_guard.cc:210] This TensorFlow binary is optimized to use available CPU instructions in performance-critical operations.\n",
            "To enable the following instructions: AVX2 AVX512F FMA, in other operations, rebuild TensorFlow with the appropriate compiler flags.\n",
            "Download Vocos from huggingface charactr/vocos-mel-24khz\n",
            "\n",
            "vocab :  /root/.cache/huggingface/hub/models--SPRINGLab--F5-Hindi-24KHz/snapshots/488556290bc8e35d3883554662f77eda413a7eb4/vocab.txt\n",
            "token :  custom\n",
            "model :  /root/.cache/huggingface/hub/models--SPRINGLab--F5-Hindi-24KHz/snapshots/488556290bc8e35d3883554662f77eda413a7eb4/model_2500000.safetensors \n",
            "\n",
            "\n",
            "vocab :  /content/F5-TTS/src/f5_tts/infer/examples/vocab.txt\n",
            "token :  custom\n",
            "model :  /root/.cache/huggingface/hub/models--SWivid--F5-TTS/snapshots/4dcc16f297f2ff98a17b3726b16f5de5a5e45672/F5TTS_Base/model_1200000.safetensors \n",
            "\n",
            "/usr/local/lib/python3.11/dist-packages/gradio/components/chatbot.py:282: UserWarning: You have not specified a value for the `type` parameter. Defaulting to the 'tuples' format for chatbot messages, but this is deprecated and will be removed in a future version of Gradio. Please set type='messages' instead, which uses openai-style dictionaries with 'role' and 'content' keys.\n",
            "  warnings.warn(\n",
            "Starting app...\n",
            "* Running on local URL:  http://127.0.0.1:7860\n",
            "* Running on public URL: https://f08ca6acfb7da49db6.gradio.live\n",
            "\n",
            "This share link expires in 72 hours. For free permanent hosting and GPU upgrades, run `gradio deploy` from the terminal in the working directory to deploy to Hugging Face Spaces (https://huggingface.co/spaces)\n"
          ]
        }
      ]
    }
  ]
}